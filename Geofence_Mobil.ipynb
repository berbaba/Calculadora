{
 "cells": [
  {
   "cell_type": "markdown",
   "id": "ab7e64d2",
   "metadata": {},
   "source": [
    "# Geofences mòbils"
   ]
  },
  {
   "cell_type": "markdown",
   "id": "2bf9393a",
   "metadata": {},
   "source": [
    "- [ ] deuria solucionar uniformitat noms columnes upper/lower"
   ]
  },
  {
   "cell_type": "markdown",
   "id": "bbce36bd",
   "metadata": {},
   "source": [
    "- [X] Crear punts geometria al voltant embarcació\n",
    "- [X] Crea geofence actualitze per a cada posició\n",
    "- [X] Representa visualment la geofence mòbil\n",
    "- [X] Detecta entrades en geofence mòbil per a MMSI practicatge\n",
    "- [ ] Generalitza bucle per a servei practicatge / embarcacions usuaries\n",
    "- [ ] Geometria acord a l'embarcació"
   ]
  },
  {
   "cell_type": "code",
   "execution_count": null,
   "id": "7af930b6",
   "metadata": {},
   "outputs": [],
   "source": [
    "import pandas as pd     # Biblioteca tractament de dades en taules\n",
    "import numpy  as np     # Biblioteca arrays i funcions matemàtiques\n",
    "import pprint as pp     # Biblioteca imprimir en format més llegible algunes dades\n",
    "import folium           # Biblioteca creació mapes interactius\n",
    "import picket           # Cal fitxer picket.py en pwd ja que defineix classe Fence (geofencing)\n",
    "import json             # jsonObjecte = json.dumps(FitxaDic, indent = 6)  # print(jsonObjecte)\n",
    "from Moduls import geofences as geo # Funcions pròpies: generals, geofences, escales, plànols, #kml?\n",
    "from Moduls import constants as cte # Constants pròpies: geofences, MMSIs pràctics"
   ]
  },
  {
   "cell_type": "markdown",
   "id": "218f13b6",
   "metadata": {},
   "source": [
    "## Funcions generals\n",
    "- Guardar mapes"
   ]
  },
  {
   "cell_type": "code",
   "execution_count": null,
   "id": "77b9ae5b",
   "metadata": {},
   "outputs": [],
   "source": [
    "def DataInstant():\n",
    "    date = !date +%F_%R\n",
    "    return (str(date).strip(\"[]'\"))\n",
    "DataInstant()\n",
    "\n",
    "## Funció per guardar els mapes en html. \n",
    "## Li passem objecte i nom que volem. Guardarà amb data \"nom_%y-%m-%d_%H:%M.html\"\n",
    "def GuardaHTML(objMapa,nom):\n",
    "    objMapa.save(outfile = str('./Resultats/' + nom + \"_\" + DataInstant() + '.html') )"
   ]
  },
  {
   "cell_type": "markdown",
   "id": "38c2b95d",
   "metadata": {},
   "source": [
    "## Càrrega dades, importació de fitxer csv i json. \n",
    "- Des de fitxa"
   ]
  },
  {
   "cell_type": "code",
   "execution_count": null,
   "id": "12b79dfa",
   "metadata": {
    "scrolled": true
   },
   "outputs": [],
   "source": [
    "!pwd\n",
    "!cd Resultats/; ls -hs | grep Fitxa # -s - show size   # --sort=size (or -S) - sort by file size.  # --sort=time ( or -t) - sort by modification time.\n",
    "\n",
    "elecc = input(\"Quina fitxa vols gastar?\")\n",
    "try:\n",
    "    fit = open(\"./Resultats/\"+elecc.split()[1].strip(),\"r\")\n",
    "except IndexError:\n",
    "    fit = open(\"./Resultats/\"+elecc.strip(),\"r\")    \n",
    "Fitxa = json.load(fit)\n",
    "fit.close()"
   ]
  },
  {
   "cell_type": "markdown",
   "id": "7d6c5e14",
   "metadata": {},
   "source": [
    "- Des de taula"
   ]
  },
  {
   "cell_type": "code",
   "execution_count": null,
   "id": "59c086ce",
   "metadata": {},
   "outputs": [],
   "source": [
    "dfUDP_4  = pd.read_csv(\"./Resultats/2021-10-22_19:41_DataFrame_AIS_date_separat_4dies.csv\",delimiter=\";\") # 2021-10-22_19:41_DataFrame_AIS_date_separat_4dies.csv"
   ]
  },
  {
   "cell_type": "code",
   "execution_count": null,
   "id": "32408c4d",
   "metadata": {},
   "outputs": [],
   "source": [
    "# Trajectoria_pilot_df[\"DATE_DT\"] = Trajectoria_pilot_df[\"DATETIME\"].astype('datetime64[ns]')\n",
    "# dfUDP[\"Date_str\"] = dfUDP[\"Date_dt\"].astype(str)\n",
    "# Trajectoria_cargo_dic[\"DATE_DT\"] = pd.to_datetime(Trajectoria_cargo_dic[\"DATE_STR\"], format = \"%Y/%m/%d %H:%M:%S\", errors = \"coerce\")"
   ]
  },
  {
   "cell_type": "code",
   "execution_count": null,
   "id": "8ac79f1c",
   "metadata": {},
   "outputs": [],
   "source": [
    "dfUDP_25 = pd.read_csv(\"./Resultats/Dataframe_Basic_25dies.csv\",\n",
    "                       index_col=\"Unnamed: 0\",     # Columna index creada sense nom\n",
    "                       parse_dates = [\"DATETIME\"], # Inclou columna dates com timestamp per poder operar amb timedeltes\n",
    "                       na_values = [\"-\"])          # Si convertim els \"-\" en NaN, la columna sencera serà float i no str\n",
    "                                                   # Igualment cal fer .dropna() abans de passar-ho a folium o no va\n",
    "# Dataframe_Basic_25dies.csv\n",
    "# 2021-11-19_13:09_DataFrame_AIS_datetime_25dies.csv"
   ]
  },
  {
   "cell_type": "markdown",
   "id": "f9b1bebe",
   "metadata": {},
   "source": [
    "- Trobem totes les embarcacions practicatge (tipus 50,51,52) als distints fitxers"
   ]
  },
  {
   "cell_type": "code",
   "execution_count": null,
   "id": "0ff178ea",
   "metadata": {
    "scrolled": true
   },
   "outputs": [],
   "source": [
    "# ## Busquem als fitxers convertits en DataFrames\n",
    "tipo_buque = [50,51,52]\n",
    "for tipo in tipo_buque:\n",
    "    unics1 = list(dfUDP_4[   dfUDP_4[\"TipoBuque\"] == tipo][\"name\"].unique())\n",
    "    unics2 = list(dfUDP_25[dfUDP_25[\"TIPOBUQUE\"] == tipo][\"NAME\"].unique())\n",
    "    print(\"\\nTipo\",tipo,end=\" : \")    \n",
    "    for nom in set(unics1+unics2):\n",
    "        print(nom.strip(),end=\", \")"
   ]
  },
  {
   "cell_type": "code",
   "execution_count": null,
   "id": "d4d15989",
   "metadata": {},
   "outputs": [],
   "source": [
    "## Busquem als fitxers convertits en Diccionaris\n",
    "unics = []\n",
    "for m in Fitxa.keys():\n",
    "    a = set(Fitxa[str(m)][\"TIPOBUQUE\"]).intersection(set(tipo_buque))\n",
    "    if len(a)>0:\n",
    "        unics.append((Fitxa[str(m)][\"NAME\"],Fitxa[str(m)][\"TIPOBUQUE\"]))\n",
    "sorted(unics, key = lambda tipo: tipo[1])"
   ]
  },
  {
   "cell_type": "markdown",
   "id": "7adc4c90",
   "metadata": {},
   "source": [
    "- Carrega els MMSI de practicatge i MMSI usuari."
   ]
  },
  {
   "cell_type": "code",
   "execution_count": null,
   "id": "b8d4e06f",
   "metadata": {},
   "outputs": [],
   "source": [
    "## Guardats en mòdul\n",
    "MMSIs_tugs = [cte.mmsi_tug_1,cte.mmsi_tug_2,cte.mmsi_tug_3,cte.mmsi_tug_4,cte.mmsi_tug_5,cte.mmsi_tug_6,\n",
    "              cte.mmsi_tug_7,cte.mmsi_tug_8,cte.mmsi_tug_9,cte.mmsi_tug_10,cte.mmsi_tug_11]\n",
    "MMSI_pilots = [cte.mmsi_pilot_1, cte.mmsi_pilot_2, cte.mmsi_pilot_3]\n",
    "# es podria afegir:  MMSIs_SAR si volguerem detectar operació salvament\n",
    "\n",
    "## Embarcació a qui se li presta el servei\n",
    "MMSI_usuari = 636017878 # # 477764600 'Cosco pride'\n",
    "MMSI_servei = cte.mmsi_tug_2"
   ]
  },
  {
   "cell_type": "markdown",
   "id": "5fba4d05",
   "metadata": {},
   "source": [
    "### Generem planols\n",
    "- Per crear objecte mapa folium amb les tanques incloses"
   ]
  },
  {
   "cell_type": "code",
   "execution_count": null,
   "id": "67f36e78",
   "metadata": {
    "scrolled": true
   },
   "outputs": [],
   "source": [
    "geo.representaTanques(geo.regeneraMapa(cte.vlc0[0], zoom = 12),cte.tanques)"
   ]
  },
  {
   "cell_type": "markdown",
   "id": "0044aa44",
   "metadata": {},
   "source": [
    "### Exemples de trajectories per a servei portuari i usuari"
   ]
  },
  {
   "cell_type": "code",
   "execution_count": null,
   "id": "89b55ab5",
   "metadata": {},
   "outputs": [],
   "source": [
    "## Podem treballar amb DF o Fitxa:\n",
    "Trajectoria_usuari_orig_df   = geo.trajectoria(dfUDP_25, MMSI_usuari)\n",
    "Trajectoria_servei_orig_df   = geo.trajectoria(dfUDP_25, MMSI_servei)\n",
    "Trajectoria_usuari_orig_dic  = geo.trajectoria(Fitxa,    MMSI_usuari)\n",
    "Trajectoria_servei_orig_dic  = geo.trajectoria(Fitxa,    MMSI_servei)"
   ]
  },
  {
   "cell_type": "markdown",
   "id": "1785ffba",
   "metadata": {},
   "source": [
    "- Filtrem per a quedar-nos únicament amb les entrades en que les dos embarcacions tenen emissió."
   ]
  },
  {
   "cell_type": "markdown",
   "id": "3dcddddc",
   "metadata": {},
   "source": [
    "### Filtre per a dates coincidents (no ens val de res que les coordenades coincidisquen però en moments distints).\n",
    "- [X] Representar en planol les coordenades per a intervals de temps que tinguen en comú.\n",
    "- [ ] Desprès representar amb bucle les polilinies amb marcador de la seua data d'emissió."
   ]
  },
  {
   "cell_type": "code",
   "execution_count": null,
   "id": "b6954daa",
   "metadata": {},
   "outputs": [],
   "source": [
    "def retallarTemps(df_servei_orig, df_usuari_orig):\n",
    "    if (len(df_servei_orig)>0 and len(df_usuari_orig)>0):\n",
    "        try:\n",
    "            Ti_servei = pd.to_datetime(df_servei_orig.iloc[0][\"DATETIME\"], format = \"%Y/%m/%d %H:%M:%S\", errors = \"coerce\")\n",
    "            Ti_usuari = pd.to_datetime(df_usuari_orig.iloc[0][\"DATETIME\"], format = \"%Y/%m/%d %H:%M:%S\", errors = \"coerce\")\n",
    "            Tf_servei = pd.to_datetime(df_servei_orig.iloc[len(df_servei_orig)-1][\"DATETIME\"], format = \"%Y/%m/%d %H:%M:%S\", errors = \"coerce\")\n",
    "            Tf_usuari = pd.to_datetime(df_usuari_orig.iloc[len(df_usuari_orig)-1][\"DATETIME\"], format = \"%Y/%m/%d %H:%M:%S\", errors = \"coerce\")\n",
    "            prim = max(Ti_servei,Ti_usuari)\n",
    "            ulti = min(Tf_servei,Tf_usuari)\n",
    "            df_servei = df_servei_orig[(df_servei_orig[\"DATETIME\"]>prim) & (ulti>df_servei_orig[\"DATETIME\"])]\n",
    "            df_usuari = df_usuari_orig[(df_usuari_orig[\"DATETIME\"]>prim) & (ulti>df_usuari_orig[\"DATETIME\"])]\n",
    "            try:\n",
    "                print(\"      Files servei / usuari:\")\n",
    "                print(\"Original:  \",len(Trajectoria_servei_orig_df),\" / \",len(Trajectoria_usuari_orig_df),   # Millorar format string\n",
    "                  \"\\nFiltrades:  \",len(df_servei),\" / \",len(df_usuari),\n",
    "                  \"\\nreducció\", len(Trajectoria_servei_orig_df)/len(df_servei), \" / \", len(Trajectoria_usuari_orig_df)/len(df_usuari))\n",
    "                return(df_servei,df_usuari)\n",
    "            except ZeroDivisionError:\n",
    "                print(\"Alerta, un dels dataframes té longitud zero. Açò es pot deure a que eixe MMSI no es troba al fitxer o que no hi ha cap temps coincident entre usuari i servei\")\n",
    "                print(df_servei_orig,\"\\n\",df_usuari_orig)\n",
    "                return(0,0)\n",
    "        except [IndexError,AttributeError]:\n",
    "            print(\"Un dels MMSI dona error, possiblement no es troba en este arxiu.\")\n",
    "            print(df_servei_orig,\"\\n\",df_usuari_orig)\n",
    "            return(0,0)\n",
    "    else:\n",
    "        return(0,0)\n",
    "\n",
    "Trajectoria_servei_df, Trajectoria_usuari_df = retallarTemps(Trajectoria_servei_orig_df,Trajectoria_usuari_orig_df)"
   ]
  },
  {
   "cell_type": "code",
   "execution_count": null,
   "id": "a362963e",
   "metadata": {},
   "outputs": [],
   "source": [
    "Traj_usu = geo.trajectoria(dfUDP_25, MMSI_usuari)\n",
    "display(Traj_usu)\n",
    "# for mmsi_servei in MMSI_pilots: #MMSIs_tugs: #MMSI_pilots:\n",
    "Traj_ser = geo.trajectoria(dfUDP_25, 224071170)\n",
    "print(mmsi_servei)\n",
    "display(Traj_ser)\n",
    "dfUDP_25[dfUDP_25[\"MMSI\"]==224071170]\n",
    "#     Traj_ser, Traj_usu = retallarTemps(Traj_ser,Traj_usu)"
   ]
  },
  {
   "cell_type": "code",
   "execution_count": null,
   "id": "271b0a75",
   "metadata": {},
   "outputs": [],
   "source": [
    "# Trajectoria_usuari_df\n",
    "# Trajectoria_servei_df"
   ]
  },
  {
   "cell_type": "markdown",
   "id": "53991506",
   "metadata": {},
   "source": [
    "#### Veiem si les trajectories coincideixen en algun moment en el temps (no necessàriament simultàneament)"
   ]
  },
  {
   "cell_type": "code",
   "execution_count": null,
   "id": "5ca2e5bf",
   "metadata": {},
   "outputs": [],
   "source": [
    "mapa = geo.representaTanques(geo.regeneraMapa(cte.vlc0[0]),cte.tanques)"
   ]
  },
  {
   "cell_type": "code",
   "execution_count": null,
   "id": "15f0da99",
   "metadata": {},
   "outputs": [],
   "source": [
    "## Si li passem coordenades que contenen \"-\" no representa la polylinia en absolut\n",
    "# colors = (\"#789dca\",\"#ff6961\",\"#f3aacb\",\"#77dd77\",\"#fdfd96\",\"#ffc870\",\"#ffe000\",\"#caf000\")"
   ]
  },
  {
   "cell_type": "code",
   "execution_count": null,
   "id": "a1a96775",
   "metadata": {
    "scrolled": true
   },
   "outputs": [],
   "source": [
    "geo.representaTrajectories(mapa,[Trajectoria_usuari_df,Trajectoria_servei_df])"
   ]
  },
  {
   "cell_type": "code",
   "execution_count": null,
   "id": "e15d6647",
   "metadata": {
    "scrolled": false
   },
   "outputs": [],
   "source": [
    "# Superposem la traectoria original i la filtrada\n",
    "geo.representaTrajectories(mapa,[Trajectoria_usuari_orig_df,Trajectoria_servei_orig_df],[\"gray\",\"#FF7B00\"])"
   ]
  },
  {
   "cell_type": "markdown",
   "id": "e8582eca",
   "metadata": {},
   "source": [
    "\n",
    "## Geometria geofence mòbil\n",
    "- Definim geometria geofence mòbil"
   ]
  },
  {
   "cell_type": "code",
   "execution_count": null,
   "id": "a863dcee",
   "metadata": {},
   "outputs": [],
   "source": [
    "## Rectangle (uns 100 m per costat) centrat en posició instantànea de l'embarcació (punts trajectoria).\n",
    "#         #### Geofence mòbil #####\n",
    "#      ______________________________                        -----🚢\n",
    "#     |              ^              |                       /       \n",
    "#     |     (X)      | +dy          |                    /         \n",
    "#     |              |              |                  /            \n",
    "#     |  -dx         |          +dx |                /              \n",
    "#   /-|<------------[punt*]-------->|               /                \n",
    "#  /  |              |              |----\\         /                 *(lon_orig,lat_orig)\n",
    "# /   |              | -dy          |     \\       /                   \n",
    "#     |______________v______________|      \\-----/              \n",
    "#\n",
    "\n",
    "dx = 0.00001*500  # 10^-5 graus és aprox 1.11 m\n",
    "dy = 0.00001*250"
   ]
  },
  {
   "cell_type": "markdown",
   "id": "795e749f",
   "metadata": {},
   "source": [
    "### Representa les geofences mòbils"
   ]
  },
  {
   "cell_type": "code",
   "execution_count": null,
   "id": "c143cdae",
   "metadata": {},
   "outputs": [],
   "source": [
    "# def generaTrajectoriaGeofence(mapa,df):"
   ]
  },
  {
   "cell_type": "code",
   "execution_count": null,
   "id": "595ceab3",
   "metadata": {},
   "outputs": [],
   "source": [
    "def representaTanquesMobil(mapa_servei,dfTraj_usuari):\n",
    "    for i in range(len(dfTraj_usuari)):\n",
    "        punt = (dfTraj_usuari.iloc[i][0],dfTraj_usuari.iloc[i][1])\n",
    "        fence_mobil = geo.generaTancaMobil(punt,dx,dy)\n",
    "\n",
    "        try: \n",
    "            folium.PolyLine(geo.Poligon_tancat(fence_mobil),\n",
    "        # tooltip = f\"\"\"<div style = \" font-size: 20px; font-family: courier new; color: blue\">{mmsi} </div>\"\"\",\n",
    "                            tooltip = \"Date: %s\"%dfTraj_usuari[\"DATETIME\"].iloc[i],\n",
    "                            popup=\"MMSI usuari: %s\"%MMSI_usuari,  # El DF carregat no conté noms si està simplificat\n",
    "                          # color = colors[tanques.index(tanca)],\n",
    "                          # color = color_dict[-np.argwhere(MMSIs == mmsi)[0][0]%30],\n",
    "                            color = \"white\",\n",
    "        #                 # smooth_factor = (default: 1. més alt, més simplificat, baixa ressolució línies, millor reacció)\n",
    "                            weight = 6, opacity=0.2,\n",
    "                            smooth_factor = 10,\n",
    "                           ).add_to(mapa_servei)\n",
    "        except ValueErrror:print(\"error de valor\")\n",
    "    return(mapa_servei)\n",
    "    \n",
    "mapa_servei = geo.representaTanques(geo.regeneraMapa(cte.vlc0[0], zoom = 12),cte.tanques)    \n",
    "representaTanquesMobil(mapa_servei,Trajectoria_usuari_df)\n",
    "# # dfCargo['NAME'] = Fitxa[\"636017878\"]['NAME'][0]#   'TIPOBUQUE'\n",
    "# GuardaHTML(mapa,\"Geofence_mobil_usuari\")"
   ]
  },
  {
   "cell_type": "code",
   "execution_count": null,
   "id": "41d44fda",
   "metadata": {},
   "outputs": [],
   "source": [
    "Trajectories=[Trajectoria_servei_df,Trajectoria_usuari_df]\n",
    "colour = [\"purple\",\"orange\"]\n",
    "\n",
    "### Explicar-la\n",
    "def cerclesData(mapa_servei,Trajectories,mmsi,a,b,colour = [\"purple\",\"orange\"]):\n",
    "    for Traj in range(len(Trajectories)):\n",
    "        if Traj == 0:\n",
    "            a = a\n",
    "        else:\n",
    "            a = b\n",
    "        for i in range(0,len(Trajectories[Traj]),a):\n",
    "            coord =(Trajectories[Traj][\"LATITUD\"].iloc[i],Trajectories[Traj][\"LONGITUD\"].iloc[i])\n",
    "            folium.Circle(\n",
    "                          location=(coord[0],coord[1]),\n",
    "                          radius = 25,\n",
    "                          color= colour[Traj], \n",
    "                          fill_color = colour[Traj],    \n",
    "                          popup=\"Date: %s MMSI: %s\"%(Trajectories[Traj][\"DATETIME\"].iloc[i],mmsi[Traj]), # falta imprimir mmsi\n",
    "                        # El DF carregat no conté noms si està simplificat *\n",
    "                #           tooltip = ,\n",
    "                          smooth_factor = 40,  \n",
    "                          ).add_to(mapa_servei)\n",
    "    return(mapa_servei)\n",
    "#  * dfCargo['NAME'] = Fitxa[\"636017878\"]['NAME'][0], TIPOBUQUE'\n",
    "\n",
    "# mapa_servei = geo.representaTanques(geo.regeneraMapa(cte.vlc0[0], zoom = 12),cte.tanques)    ## Regenerar\n",
    "cerclesData(mapa_servei,Trajectories,[MMSI_usuari,MMSI_servei],1,1,colour)\n",
    "\n",
    "# GuardaHTML(mapa,\"Geofence_mobil_servei\")"
   ]
  },
  {
   "cell_type": "code",
   "execution_count": null,
   "id": "000f9600",
   "metadata": {},
   "outputs": [],
   "source": [
    "geo.representaTrajectories(mapa_servei,[Trajectoria_usuari_df,Trajectoria_servei_df])\n",
    "GuardaHTML(mapa_servei,\"Geofence_mobil_complet\")\n",
    "mapa_servei"
   ]
  },
  {
   "cell_type": "markdown",
   "id": "68712d78",
   "metadata": {},
   "source": [
    "### Funció de cerca contacte usuari-servei"
   ]
  },
  {
   "cell_type": "code",
   "execution_count": null,
   "id": "78618107",
   "metadata": {},
   "outputs": [],
   "source": [
    "### Per a cada geofence mòbil generada per l'usuari (totes les files de usuari)\n",
    "### comprova si alguna coordenada del servei (totes les files de servei) està dins.*\n",
    "### * Hi ha dos filtres de temps (+ SALT EN RANGE), primer deuriem haver eliminat les files per a les quals \n",
    "### sols hi ha una embarcació. Segon, sols comprova geofence i coordenades amb intervals de temps en comú (±30 min).\n",
    "### He de limitar amb la data i en range perquè tarda molt. 1 minut cada 100 files del practic (poden haver > 6.000)\n",
    "\n",
    "def ServeiPractic(Trajectoria_servei_df,Trajectoria_usuari_df,imprimir):\n",
    "    i_servei_trobat, i_usuari_trobat = [],[]                            # Guardarà index fila amb coincidència\n",
    "    #### *se salta passes per alleujerar!!!\n",
    "    for i_servei in range(0,len(Trajectoria_servei_df),5):              # Recorre tots* els punts trajectoria servei\n",
    "        for i_usuari in range(0,len(Trajectoria_usuari_df),5):          # Anàlogament per a usuari ######## *idem\n",
    "            # Coordenades punt per fer geofence mòbil al voltant\n",
    "            df_usuari_i = Trajectoria_usuari_df.iloc[i_usuari]\n",
    "            df_servei_i = Trajectoria_servei_df.iloc[i_servei]\n",
    "            punt = (df_usuari_i[\"LATITUD\"],df_usuari_i[\"LONGITUD\"])\n",
    "            t_pos_usuari  = df_usuari_i[\"DATETIME\"]         # Datetime del punt\n",
    "            t_pos_servei  = df_servei_i[\"DATETIME\"]                \n",
    "            prev = t_pos_usuari - pd.to_timedelta(\"00:30:00\", errors = \"coerce\")    # Temps ± 30 min filtrar posicions al mateix moment\n",
    "            post = t_pos_usuari + pd.to_timedelta(\"00:30:00\", errors = \"coerce\")\n",
    "            if (prev < t_pos_servei < post):        # Sols comprovem si els temps coincideixen al menys mateixa hora\n",
    "                fence_mobil = geo.generaTancaMobil(punt,dx,dy)                     # Geometria geofence mòbil\n",
    "                trobat = len(geo.CoordenadaAtrapat([(fence_mobil,\"fence_mobil\")],  # retorna checklist de tanques\n",
    "                                                     df_servei_i[[\"LATITUD\",\"LONGITUD\"]],\n",
    "                                                     ver = False)) > 0   # trobat==True/False \n",
    "                if trobat:                         # Si ha entrat en geofence_mòbil imprimirà el Datetime del cargo\n",
    "                    i_servei_trobat.append(i_servei)\n",
    "                    i_usuari_trobat.append(i_usuari)\n",
    "                    if imprimir: print(t_pos_usuari, \"MMSI usuari\", MMSI_usuari,\n",
    "                          \"Coordenades: (\", punt[0],\",\",punt[1],\")\")   # Amb moltes coincidències PRINT AFEGIX TEMPS CÀLCUL\n",
    "    if len(i_servei_trobat)>0:\n",
    "        return(set(i_servei_trobat), set(i_usuari_trobat))"
   ]
  },
  {
   "cell_type": "markdown",
   "id": "3ddfe5f6",
   "metadata": {},
   "source": [
    "### Exemple cerca de contacte servei-usuari"
   ]
  },
  {
   "cell_type": "code",
   "execution_count": null,
   "id": "a915bbc4",
   "metadata": {},
   "outputs": [],
   "source": [
    "index_en_servei,index_en_usuari = ServeiPractic(Trajectoria_servei_df,Trajectoria_usuari_df, imprimir = True)\n",
    "print(index_en_servei,index_en_usuari)"
   ]
  },
  {
   "cell_type": "code",
   "execution_count": null,
   "id": "9cc8eec2",
   "metadata": {},
   "outputs": [],
   "source": [
    "mapa_servei = geo.representaTanques(geo.regeneraMapa(cte.vlc0[0], zoom = 12),cte.tanques)    \n",
    "representaTanquesMobil(mapa_servei,Trajectoria_usuari_df.iloc[list(index_en_usuari)]) \n",
    "cerclesData(mapa_servei,[Trajectoria_servei_df.iloc[list(index_en_servei)]])"
   ]
  },
  {
   "cell_type": "markdown",
   "id": "286917db",
   "metadata": {},
   "source": [
    "### Bucle per trobar contacte donat un usuari entre totes les embarcacions servei"
   ]
  },
  {
   "cell_type": "code",
   "execution_count": null,
   "id": "833b48ef",
   "metadata": {},
   "outputs": [],
   "source": [
    "## Ací anirien bucles per trobar contactes amb servei practicatge. (tots mmsi tipus 70 per exemple i tots pilots)\n",
    "##   Fer també bucles per trobar contactes amb servei de remolc.   (tots mmsi tipus 70 i tots remolcadors)\n",
    "\n",
    "## vore al mapa totes traject tugs"
   ]
  },
  {
   "cell_type": "code",
   "execution_count": null,
   "id": "b08cfb8d",
   "metadata": {},
   "outputs": [],
   "source": [
    "mapes, mmsi_tugs_no_error  = [],[]\n",
    "for mmsi_servei in MMSIs_tugs: #: #MMSI_pilots:\n",
    "    Traj_usu = geo.trajectoria(dfUDP_25, MMSI_usuari)\n",
    "    Traj_ser = geo.trajectoria(dfUDP_25, mmsi_servei)\n",
    "    Traj_ser, Traj_usu = retallarTemps(Traj_ser,Traj_usu)\n",
    "    try:\n",
    "        mapa = geo.representaTanques(geo.regeneraMapa(cte.vlc0[0], zoom = 12),cte.tanques)\n",
    "        mapa = geo.representaTrajectories(mapa,[Traj_usu,Traj_ser])\n",
    "        mapa = representaTanquesMobil(mapa,Traj_usu)\n",
    "        mapa = cerclesData(mapa,[Traj_ser,Traj_usu],[MMSI_usuari,mmsi_servei])\n",
    "        mapes.append(mapa)\n",
    "        mmsi_tugs_no_error.append(mmsi_servei)\n",
    "    except TypeError:\n",
    "        print(\"\\n Error en MMSI \",mmsi_servei,\"\\n\")"
   ]
  },
  {
   "cell_type": "code",
   "execution_count": null,
   "id": "87bea6cd",
   "metadata": {},
   "outputs": [],
   "source": [
    "for mapa in mapes:\n",
    "    GuardaHTML(mapa,\"Geofence_mobil_servei_\"+str(mapes.index(mapa)))"
   ]
  },
  {
   "cell_type": "markdown",
   "id": "e08edd61",
   "metadata": {},
   "source": [
    "### recorre tugs no error\n",
    "## Primer prova amb 1 per si apareix cap error"
   ]
  },
  {
   "cell_type": "code",
   "execution_count": null,
   "id": "f4afa7a6",
   "metadata": {},
   "outputs": [],
   "source": [
    "# mmsi_servei=mmsi_tugs_no_error[2]\n",
    "# Traj_usu = geo.trajectoria(dfUDP_25, MMSI_usuari)\n",
    "# Traj_ser = geo.trajectoria(dfUDP_25, mmsi_servei)\n",
    "# Traj_ser, Traj_usu = retallarTemps(Traj_ser,Traj_usu)\n",
    "# try:\n",
    "#     index_en_servei,index_en_usuari = ServeiPractic(Traj_ser,Traj_usu, imprimir = True)\n",
    "# except TypeError:\n",
    "#     print(\"\\nNo hi ha cap coincidència\\n\")"
   ]
  },
  {
   "cell_type": "code",
   "execution_count": null,
   "id": "ea445e17",
   "metadata": {},
   "outputs": [],
   "source": [
    "print(DataInstant())\n",
    "for mmsi_servei in mmsi_tugs_no_error:\n",
    "    print(\"\\n\",MMSI_usuari,mmsi_servei)\n",
    "    Traj_usu = geo.trajectoria(dfUDP_25, MMSI_usuari)\n",
    "    Traj_ser = geo.trajectoria(dfUDP_25, mmsi_servei)\n",
    "    Traj_ser, Traj_usu = retallarTemps(Traj_ser,Traj_usu)\n",
    "    try:\n",
    "        index_en_servei,index_en_usuari = ServeiPractic(Traj_ser,Traj_usu, imprimir = True)\n",
    "        print(index_en_servei,index_en_usuari)\n",
    "        mapa_servei = geo.representaTanques(geo.regeneraMapa(cte.vlc0[0], zoom = 12),cte.tanques)    \n",
    "        representaTanquesMobil(mapa_servei,Traj_usu.iloc[list(index_en_usuari)]) \n",
    "        cerclesData(mapa_servei,[Traj_ser.iloc[list(index_en_servei)],Traj_usu.iloc[list(index_en_usuari)]],1,1,[MMSI_usuari,mmsi_servei],colour)\n",
    "        GuardaHTML(mapa_servei,\"Geofence_mobil_servei-usuari_\"+str(mmsi_tugs_no_error.index(mmsi_servei)))\n",
    "    except TypeError:\n",
    "        print(\"\\nNo hi ha cap coincidència\\n\")\n",
    "print(DataInstant())    "
   ]
  },
  {
   "cell_type": "code",
   "execution_count": null,
   "id": "c6b0ca17",
   "metadata": {},
   "outputs": [],
   "source": []
  },
  {
   "cell_type": "code",
   "execution_count": null,
   "id": "2bbf423a",
   "metadata": {},
   "outputs": [],
   "source": [
    "#### Exemple de marcadors i eina per seleccionar-los\n",
    "\n",
    "# tooltip = \"Click me!\"\n",
    "\n",
    "# folium.Marker(\n",
    "#     [+39.4316,-0.3316],\n",
    "#     popup=\"<i>Latitut mínima en requests API</i>\", tooltip=tooltip\n",
    "# ).add_to(m)\n",
    "\n",
    "# folium.Marker(\n",
    "#     location=[+39.44,-0.3316],\n",
    "#     popup=\"Mt. Hood Meadows\",\n",
    "#     icon=folium.Icon(icon=\"cloud\",color=\"orange\"),\n",
    "# ).add_to(m)\n",
    "\n",
    "\n",
    "# m"
   ]
  }
 ],
 "metadata": {
  "kernelspec": {
   "display_name": "Python 3",
   "language": "python",
   "name": "python3"
  },
  "language_info": {
   "codemirror_mode": {
    "name": "ipython",
    "version": 3
   },
   "file_extension": ".py",
   "mimetype": "text/x-python",
   "name": "python",
   "nbconvert_exporter": "python",
   "pygments_lexer": "ipython3",
   "version": "3.8.8"
  }
 },
 "nbformat": 4,
 "nbformat_minor": 5
}
